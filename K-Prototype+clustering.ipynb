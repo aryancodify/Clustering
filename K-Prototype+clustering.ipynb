{
 "cells": [
  {
   "cell_type": "markdown",
   "metadata": {},
   "source": [
    "# K-Prototype Clustering"
   ]
  },
  {
   "cell_type": "markdown",
   "metadata": {},
   "source": [
    "**About Blood Transfusion dataset**<br><br>\n",
    "To demonstrate the RFMTC marketing model (a modified version of RFM), this study adopted the donor database of Blood Transfusion Service Center in Hsin-Chu City in Taiwan. The center passes their blood transfusion service bus to one university in Hsin-Chu City to gather blood donated about every three months. To build a FRMTC model, we selected 748 donors at random from the donor database. These 748 donor data, each one included R (Recency - months since last donation), F (Frequency - total number of donation), M (Monetary - total blood donated in c.c.), T (Time - months since first donation), and a binary variable representing whether he/she donated blood in March 2007 (1 stand for donating blood; 0 stands for not donating blood)."
   ]
  },
  {
   "cell_type": "markdown",
   "metadata": {},
   "source": [
    "**Attribute Information:**\n",
    "\n",
    "- R (Recency - months since last donation), \n",
    "- F (Frequency - total number of donation), \n",
    "- M (Monetary - total blood donated in c.c.), \n",
    "- T (Time - months since first donation), and a binary variable representing whether he/she donated blood in March 2007 (1 stand for donating blood; 0 stands for not donating blood). \n",
    "\n",
    "- Variable\tData Type\tMeasurement\tDescription\tmin\tmax\tmean\tstd \n",
    "- Recency quantitative\tMonths\tInput\t0.03\t74.4\t9.74\t8.07 \n",
    "- Frequency quantitative\tTimes\tInput\t1\t50\t5.51\t5.84 \n",
    "- Monetary\tquantitative\tc.c. blood\tInput\t250\t12500\t1378.68\t1459.83 \n",
    "- Time quantitative\tMonths\tInput\t2.27\t98.3\t34.42\t24.32 \n",
    "- Whether he/she donated blood in March 2007\tbinary\t1=yes 0=no\tOutput\t0\t1\t1 (24%) 0 (76%) "
   ]
  },
  {
   "cell_type": "code",
   "execution_count": 1,
   "metadata": {},
   "outputs": [],
   "source": [
    "# Importing Libraries\n",
    "import numpy as np\n",
    "import pandas as pd\n",
    "from kmodes.kprototypes import KPrototypes\n",
    "%matplotlib inline\n",
    "import matplotlib.pyplot as plt\n",
    "import seaborn as sns"
   ]
  },
  {
   "cell_type": "code",
   "execution_count": 2,
   "metadata": {},
   "outputs": [
    {
     "name": "stdout",
     "output_type": "stream",
     "text": [
      "Help on class KPrototypes in module kmodes.kprototypes:\n",
      "\n",
      "class KPrototypes(kmodes.kmodes.KModes)\n",
      " |  k-protoypes clustering algorithm for mixed numerical/categorical data.\n",
      " |  \n",
      " |  Parameters\n",
      " |  -----------\n",
      " |  n_clusters : int, optional, default: 8\n",
      " |      The number of clusters to form as well as the number of\n",
      " |      centroids to generate.\n",
      " |  \n",
      " |  max_iter : int, default: 300\n",
      " |      Maximum number of iterations of the k-modes algorithm for a\n",
      " |      single run.\n",
      " |  \n",
      " |  num_dissim : func, default: euclidian_dissim\n",
      " |      Dissimilarity function used by the algorithm for numerical variables.\n",
      " |      Defaults to the Euclidian dissimilarity function.\n",
      " |  \n",
      " |  cat_dissim : func, default: matching_dissim\n",
      " |      Dissimilarity function used by the kmodes algorithm for categorical variables.\n",
      " |      Defaults to the matching dissimilarity function.\n",
      " |  \n",
      " |  n_init : int, default: 10\n",
      " |      Number of time the k-modes algorithm will be run with different\n",
      " |      centroid seeds. The final results will be the best output of\n",
      " |      n_init consecutive runs in terms of cost.\n",
      " |  \n",
      " |  init : {'Huang', 'Cao', 'random' or a list of ndarrays}, default: 'Cao'\n",
      " |      Method for initialization:\n",
      " |      'Huang': Method in Huang [1997, 1998]\n",
      " |      'Cao': Method in Cao et al. [2009]\n",
      " |      'random': choose 'n_clusters' observations (rows) at random from\n",
      " |      data for the initial centroids.\n",
      " |      If a list of ndarrays is passed, it should be of length 2, with\n",
      " |      shapes (n_clusters, n_features) for numerical and categorical\n",
      " |      data respectively. These are the initial centroids.\n",
      " |  \n",
      " |  gamma : float, default: None\n",
      " |      Weighing factor that determines relative importance of numerical vs.\n",
      " |      categorical attributes (see discussion in Huang [1997]). By default,\n",
      " |      automatically calculated from data.\n",
      " |  \n",
      " |  verbose : integer, optional\n",
      " |      Verbosity mode.\n",
      " |  \n",
      " |  Attributes\n",
      " |  ----------\n",
      " |  cluster_centroids_ : array, [n_clusters, n_features]\n",
      " |      Categories of cluster centroids\n",
      " |  \n",
      " |  labels_ :\n",
      " |      Labels of each point\n",
      " |  \n",
      " |  cost_ : float\n",
      " |      Clustering cost, defined as the sum distance of all points to\n",
      " |      their respective cluster centroids.\n",
      " |  \n",
      " |  n_iter_ : int\n",
      " |      The number of iterations the algorithm ran for.\n",
      " |  \n",
      " |  gamma : float\n",
      " |      The (potentially calculated) weighing factor.\n",
      " |  \n",
      " |  Notes\n",
      " |  -----\n",
      " |  See:\n",
      " |  Huang, Z.: Extensions to the k-modes algorithm for clustering large\n",
      " |  data sets with categorical values, Data Mining and Knowledge\n",
      " |  Discovery 2(3), 1998.\n",
      " |  \n",
      " |  Method resolution order:\n",
      " |      KPrototypes\n",
      " |      kmodes.kmodes.KModes\n",
      " |      sklearn.base.BaseEstimator\n",
      " |      sklearn.base.ClusterMixin\n",
      " |      builtins.object\n",
      " |  \n",
      " |  Methods defined here:\n",
      " |  \n",
      " |  __init__(self, n_clusters=8, max_iter=100, num_dissim=<function euclidean_dissim at 0x000002215DD8AB70>, cat_dissim=<function matching_dissim at 0x000002215DD8AA60>, init='Huang', n_init=10, gamma=None, verbose=0)\n",
      " |      Initialize self.  See help(type(self)) for accurate signature.\n",
      " |  \n",
      " |  fit(self, X, y=None, categorical=None)\n",
      " |      Compute k-prototypes clustering.\n",
      " |      \n",
      " |      Parameters\n",
      " |      ----------\n",
      " |      X : array-like, shape=[n_samples, n_features]\n",
      " |      categorical : Index of columns that contain categorical data\n",
      " |  \n",
      " |  predict(self, X, categorical=None)\n",
      " |      Predict the closest cluster each sample in X belongs to.\n",
      " |      \n",
      " |      Parameters\n",
      " |      ----------\n",
      " |      X : array-like, shape = [n_samples, n_features]\n",
      " |          New data to predict.\n",
      " |      categorical : Index of columns that contain categorical data\n",
      " |      \n",
      " |      Returns\n",
      " |      -------\n",
      " |      labels : array, shape [n_samples,]\n",
      " |          Index of the cluster each sample belongs to.\n",
      " |  \n",
      " |  ----------------------------------------------------------------------\n",
      " |  Data descriptors defined here:\n",
      " |  \n",
      " |  cluster_centroids_\n",
      " |  \n",
      " |  ----------------------------------------------------------------------\n",
      " |  Methods inherited from kmodes.kmodes.KModes:\n",
      " |  \n",
      " |  fit_predict(self, X, y=None, **kwargs)\n",
      " |      Compute cluster centroids and predict cluster index for each sample.\n",
      " |      \n",
      " |      Convenience method; equivalent to calling fit(X) followed by\n",
      " |      predict(X).\n",
      " |  \n",
      " |  ----------------------------------------------------------------------\n",
      " |  Methods inherited from sklearn.base.BaseEstimator:\n",
      " |  \n",
      " |  __getstate__(self)\n",
      " |  \n",
      " |  __repr__(self)\n",
      " |      Return repr(self).\n",
      " |  \n",
      " |  __setstate__(self, state)\n",
      " |  \n",
      " |  get_params(self, deep=True)\n",
      " |      Get parameters for this estimator.\n",
      " |      \n",
      " |      Parameters\n",
      " |      ----------\n",
      " |      deep : boolean, optional\n",
      " |          If True, will return the parameters for this estimator and\n",
      " |          contained subobjects that are estimators.\n",
      " |      \n",
      " |      Returns\n",
      " |      -------\n",
      " |      params : mapping of string to any\n",
      " |          Parameter names mapped to their values.\n",
      " |  \n",
      " |  set_params(self, **params)\n",
      " |      Set the parameters of this estimator.\n",
      " |      \n",
      " |      The method works on simple estimators as well as on nested objects\n",
      " |      (such as pipelines). The latter have parameters of the form\n",
      " |      ``<component>__<parameter>`` so that it's possible to update each\n",
      " |      component of a nested object.\n",
      " |      \n",
      " |      Returns\n",
      " |      -------\n",
      " |      self\n",
      " |  \n",
      " |  ----------------------------------------------------------------------\n",
      " |  Data descriptors inherited from sklearn.base.BaseEstimator:\n",
      " |  \n",
      " |  __dict__\n",
      " |      dictionary for instance variables (if defined)\n",
      " |  \n",
      " |  __weakref__\n",
      " |      list of weak references to the object (if defined)\n",
      "\n"
     ]
    }
   ],
   "source": [
    "help(KPrototypes)"
   ]
  },
  {
   "cell_type": "code",
   "execution_count": 3,
   "metadata": {},
   "outputs": [],
   "source": [
    "# Reading Dataset\n",
    "blood = pd.read_csv('https://archive.ics.uci.edu/ml/machine-learning-databases/blood-transfusion/transfusion.data', sep=\",\",engine = 'python')"
   ]
  },
  {
   "cell_type": "code",
   "execution_count": 4,
   "metadata": {},
   "outputs": [
    {
     "data": {
      "text/html": [
       "<div>\n",
       "<style scoped>\n",
       "    .dataframe tbody tr th:only-of-type {\n",
       "        vertical-align: middle;\n",
       "    }\n",
       "\n",
       "    .dataframe tbody tr th {\n",
       "        vertical-align: top;\n",
       "    }\n",
       "\n",
       "    .dataframe thead th {\n",
       "        text-align: right;\n",
       "    }\n",
       "</style>\n",
       "<table border=\"1\" class=\"dataframe\">\n",
       "  <thead>\n",
       "    <tr style=\"text-align: right;\">\n",
       "      <th></th>\n",
       "      <th>Recency (months)</th>\n",
       "      <th>Frequency (times)</th>\n",
       "      <th>Monetary (c.c. blood)</th>\n",
       "      <th>Time (months)</th>\n",
       "      <th>whether he/she donated blood in March 2007</th>\n",
       "    </tr>\n",
       "  </thead>\n",
       "  <tbody>\n",
       "    <tr>\n",
       "      <th>0</th>\n",
       "      <td>2</td>\n",
       "      <td>50</td>\n",
       "      <td>12500</td>\n",
       "      <td>98</td>\n",
       "      <td>1</td>\n",
       "    </tr>\n",
       "    <tr>\n",
       "      <th>1</th>\n",
       "      <td>0</td>\n",
       "      <td>13</td>\n",
       "      <td>3250</td>\n",
       "      <td>28</td>\n",
       "      <td>1</td>\n",
       "    </tr>\n",
       "    <tr>\n",
       "      <th>2</th>\n",
       "      <td>1</td>\n",
       "      <td>16</td>\n",
       "      <td>4000</td>\n",
       "      <td>35</td>\n",
       "      <td>1</td>\n",
       "    </tr>\n",
       "    <tr>\n",
       "      <th>3</th>\n",
       "      <td>2</td>\n",
       "      <td>20</td>\n",
       "      <td>5000</td>\n",
       "      <td>45</td>\n",
       "      <td>1</td>\n",
       "    </tr>\n",
       "    <tr>\n",
       "      <th>4</th>\n",
       "      <td>1</td>\n",
       "      <td>24</td>\n",
       "      <td>6000</td>\n",
       "      <td>77</td>\n",
       "      <td>0</td>\n",
       "    </tr>\n",
       "  </tbody>\n",
       "</table>\n",
       "</div>"
      ],
      "text/plain": [
       "   Recency (months)  Frequency (times)  Monetary (c.c. blood)  Time (months)  \\\n",
       "0                 2                 50                  12500             98   \n",
       "1                 0                 13                   3250             28   \n",
       "2                 1                 16                   4000             35   \n",
       "3                 2                 20                   5000             45   \n",
       "4                 1                 24                   6000             77   \n",
       "\n",
       "   whether he/she donated blood in March 2007  \n",
       "0                                           1  \n",
       "1                                           1  \n",
       "2                                           1  \n",
       "3                                           1  \n",
       "4                                           0  "
      ]
     },
     "execution_count": 4,
     "metadata": {},
     "output_type": "execute_result"
    }
   ],
   "source": [
    "#Sanity Check\n",
    "blood.head()"
   ]
  },
  {
   "cell_type": "code",
   "execution_count": 5,
   "metadata": {},
   "outputs": [],
   "source": [
    "# standardizing data\n",
    "columns_to_normalize     = ['Recency (months)','Frequency (times)','Monetary (c.c. blood)','Time (months)']\n",
    "blood[columns_to_normalize] = blood[columns_to_normalize].apply(lambda x: (x - x.mean()) / np.std(x))"
   ]
  },
  {
   "cell_type": "code",
   "execution_count": 6,
   "metadata": {},
   "outputs": [
    {
     "data": {
      "text/html": [
       "<div>\n",
       "<style scoped>\n",
       "    .dataframe tbody tr th:only-of-type {\n",
       "        vertical-align: middle;\n",
       "    }\n",
       "\n",
       "    .dataframe tbody tr th {\n",
       "        vertical-align: top;\n",
       "    }\n",
       "\n",
       "    .dataframe thead th {\n",
       "        text-align: right;\n",
       "    }\n",
       "</style>\n",
       "<table border=\"1\" class=\"dataframe\">\n",
       "  <thead>\n",
       "    <tr style=\"text-align: right;\">\n",
       "      <th></th>\n",
       "      <th>Recency (months)</th>\n",
       "      <th>Frequency (times)</th>\n",
       "      <th>Monetary (c.c. blood)</th>\n",
       "      <th>Time (months)</th>\n",
       "      <th>whether he/she donated blood in March 2007</th>\n",
       "    </tr>\n",
       "  </thead>\n",
       "  <tbody>\n",
       "    <tr>\n",
       "      <th>0</th>\n",
       "      <td>-0.927899</td>\n",
       "      <td>7.623346</td>\n",
       "      <td>7.623346</td>\n",
       "      <td>2.615633</td>\n",
       "      <td>1</td>\n",
       "    </tr>\n",
       "    <tr>\n",
       "      <th>1</th>\n",
       "      <td>-1.175118</td>\n",
       "      <td>1.282738</td>\n",
       "      <td>1.282738</td>\n",
       "      <td>-0.257881</td>\n",
       "      <td>1</td>\n",
       "    </tr>\n",
       "    <tr>\n",
       "      <th>2</th>\n",
       "      <td>-1.051508</td>\n",
       "      <td>1.796842</td>\n",
       "      <td>1.796842</td>\n",
       "      <td>0.029471</td>\n",
       "      <td>1</td>\n",
       "    </tr>\n",
       "    <tr>\n",
       "      <th>3</th>\n",
       "      <td>-0.927899</td>\n",
       "      <td>2.482313</td>\n",
       "      <td>2.482313</td>\n",
       "      <td>0.439973</td>\n",
       "      <td>1</td>\n",
       "    </tr>\n",
       "    <tr>\n",
       "      <th>4</th>\n",
       "      <td>-1.051508</td>\n",
       "      <td>3.167784</td>\n",
       "      <td>3.167784</td>\n",
       "      <td>1.753579</td>\n",
       "      <td>0</td>\n",
       "    </tr>\n",
       "  </tbody>\n",
       "</table>\n",
       "</div>"
      ],
      "text/plain": [
       "   Recency (months)  Frequency (times)  Monetary (c.c. blood)  Time (months)  \\\n",
       "0         -0.927899           7.623346               7.623346       2.615633   \n",
       "1         -1.175118           1.282738               1.282738      -0.257881   \n",
       "2         -1.051508           1.796842               1.796842       0.029471   \n",
       "3         -0.927899           2.482313               2.482313       0.439973   \n",
       "4         -1.051508           3.167784               3.167784       1.753579   \n",
       "\n",
       "   whether he/she donated blood in March 2007  \n",
       "0                                           1  \n",
       "1                                           1  \n",
       "2                                           1  \n",
       "3                                           1  \n",
       "4                                           0  "
      ]
     },
     "execution_count": 6,
     "metadata": {},
     "output_type": "execute_result"
    }
   ],
   "source": [
    "# Re-check after standardizing data\n",
    "blood.head()"
   ]
  },
  {
   "cell_type": "code",
   "execution_count": 7,
   "metadata": {},
   "outputs": [],
   "source": [
    "# Converting the dataset into matrix\n",
    "blood_matrix = blood.as_matrix()"
   ]
  },
  {
   "cell_type": "code",
   "execution_count": 8,
   "metadata": {},
   "outputs": [
    {
     "data": {
      "text/plain": [
       "array([[-0.92789873,  7.62334626,  7.62334626,  2.61563344,  1.        ],\n",
       "       [-1.17511806,  1.28273826,  1.28273826, -0.2578809 ,  1.        ],\n",
       "       [-1.0515084 ,  1.79684161,  1.79684161,  0.02947053,  1.        ],\n",
       "       ...,\n",
       "       [ 1.66790417, -0.43093957, -0.43093957,  1.13782607,  0.        ],\n",
       "       [ 3.64565877, -0.77367514, -0.77367514,  0.19367135,  0.        ],\n",
       "       [ 7.72477762, -0.77367514, -0.77367514,  1.54832812,  0.        ]])"
      ]
     },
     "execution_count": 8,
     "metadata": {},
     "output_type": "execute_result"
    }
   ],
   "source": [
    "# Martix for analysis\n",
    "blood_matrix"
   ]
  },
  {
   "cell_type": "code",
   "execution_count": 9,
   "metadata": {},
   "outputs": [],
   "source": [
    "# Running K-Prototype clustering\n",
    "kproto = KPrototypes(n_clusters=5, init='Cao')\n",
    "clusters = kproto.fit_predict(blood_matrix, categorical=[4])"
   ]
  },
  {
   "cell_type": "code",
   "execution_count": 12,
   "metadata": {},
   "outputs": [
    {
     "data": {
      "text/plain": [
       "[array([[ 1.20155863, -0.0434147 , -0.0434147 ,  1.16721428],\n",
       "        [-0.5217527 ,  4.8324995 ,  4.8324995 ,  2.12009883],\n",
       "        [ 0.77649881, -0.51171646, -0.51171646, -0.41737993],\n",
       "        [-0.77483521, -0.39947752, -0.39947752, -0.73541024],\n",
       "        [-0.46834379,  0.94841338,  0.94841338,  0.92401242]]), array([[0.],\n",
       "        [0.],\n",
       "        [0.],\n",
       "        [0.],\n",
       "        [0.]])]"
      ]
     },
     "execution_count": 12,
     "metadata": {},
     "output_type": "execute_result"
    }
   ],
   "source": [
    "kproto.cluster_centroids_"
   ]
  },
  {
   "cell_type": "code",
   "execution_count": 9,
   "metadata": {},
   "outputs": [
    {
     "data": {
      "text/plain": [
       "915.5424569187537"
      ]
     },
     "execution_count": 9,
     "metadata": {},
     "output_type": "execute_result"
    }
   ],
   "source": [
    "# Checking the cost of the clusters created.\n",
    "kproto.cost_"
   ]
  },
  {
   "cell_type": "code",
   "execution_count": 10,
   "metadata": {},
   "outputs": [],
   "source": [
    "# Adding the predicted clusters to the main dataset\n",
    "blood['cluster_id'] = clusters"
   ]
  },
  {
   "cell_type": "code",
   "execution_count": 11,
   "metadata": {},
   "outputs": [
    {
     "data": {
      "text/html": [
       "<div>\n",
       "<style scoped>\n",
       "    .dataframe tbody tr th:only-of-type {\n",
       "        vertical-align: middle;\n",
       "    }\n",
       "\n",
       "    .dataframe tbody tr th {\n",
       "        vertical-align: top;\n",
       "    }\n",
       "\n",
       "    .dataframe thead th {\n",
       "        text-align: right;\n",
       "    }\n",
       "</style>\n",
       "<table border=\"1\" class=\"dataframe\">\n",
       "  <thead>\n",
       "    <tr style=\"text-align: right;\">\n",
       "      <th></th>\n",
       "      <th>Recency (months)</th>\n",
       "      <th>Frequency (times)</th>\n",
       "      <th>Monetary (c.c. blood)</th>\n",
       "      <th>Time (months)</th>\n",
       "      <th>whether he/she donated blood in March 2007</th>\n",
       "      <th>cluster_id</th>\n",
       "    </tr>\n",
       "  </thead>\n",
       "  <tbody>\n",
       "    <tr>\n",
       "      <th>0</th>\n",
       "      <td>-0.927899</td>\n",
       "      <td>7.623346</td>\n",
       "      <td>7.623346</td>\n",
       "      <td>2.615633</td>\n",
       "      <td>1</td>\n",
       "      <td>4</td>\n",
       "    </tr>\n",
       "    <tr>\n",
       "      <th>1</th>\n",
       "      <td>-1.175118</td>\n",
       "      <td>1.282738</td>\n",
       "      <td>1.282738</td>\n",
       "      <td>-0.257881</td>\n",
       "      <td>1</td>\n",
       "      <td>0</td>\n",
       "    </tr>\n",
       "    <tr>\n",
       "      <th>2</th>\n",
       "      <td>-1.051508</td>\n",
       "      <td>1.796842</td>\n",
       "      <td>1.796842</td>\n",
       "      <td>0.029471</td>\n",
       "      <td>1</td>\n",
       "      <td>3</td>\n",
       "    </tr>\n",
       "    <tr>\n",
       "      <th>3</th>\n",
       "      <td>-0.927899</td>\n",
       "      <td>2.482313</td>\n",
       "      <td>2.482313</td>\n",
       "      <td>0.439973</td>\n",
       "      <td>1</td>\n",
       "      <td>3</td>\n",
       "    </tr>\n",
       "    <tr>\n",
       "      <th>4</th>\n",
       "      <td>-1.051508</td>\n",
       "      <td>3.167784</td>\n",
       "      <td>3.167784</td>\n",
       "      <td>1.753579</td>\n",
       "      <td>0</td>\n",
       "      <td>3</td>\n",
       "    </tr>\n",
       "  </tbody>\n",
       "</table>\n",
       "</div>"
      ],
      "text/plain": [
       "   Recency (months)  Frequency (times)  Monetary (c.c. blood)  Time (months)  \\\n",
       "0         -0.927899           7.623346               7.623346       2.615633   \n",
       "1         -1.175118           1.282738               1.282738      -0.257881   \n",
       "2         -1.051508           1.796842               1.796842       0.029471   \n",
       "3         -0.927899           2.482313               2.482313       0.439973   \n",
       "4         -1.051508           3.167784               3.167784       1.753579   \n",
       "\n",
       "   whether he/she donated blood in March 2007  cluster_id  \n",
       "0                                           1           4  \n",
       "1                                           1           0  \n",
       "2                                           1           3  \n",
       "3                                           1           3  \n",
       "4                                           0           3  "
      ]
     },
     "execution_count": 11,
     "metadata": {},
     "output_type": "execute_result"
    }
   ],
   "source": [
    "# Re-check\n",
    "blood.head()"
   ]
  },
  {
   "cell_type": "code",
   "execution_count": 14,
   "metadata": {},
   "outputs": [
    {
     "data": {
      "text/html": [
       "<div>\n",
       "<style scoped>\n",
       "    .dataframe tbody tr th:only-of-type {\n",
       "        vertical-align: middle;\n",
       "    }\n",
       "\n",
       "    .dataframe tbody tr th {\n",
       "        vertical-align: top;\n",
       "    }\n",
       "\n",
       "    .dataframe thead th {\n",
       "        text-align: right;\n",
       "    }\n",
       "</style>\n",
       "<table border=\"1\" class=\"dataframe\">\n",
       "  <thead>\n",
       "    <tr style=\"text-align: right;\">\n",
       "      <th></th>\n",
       "      <th>cluster_id</th>\n",
       "    </tr>\n",
       "  </thead>\n",
       "  <tbody>\n",
       "    <tr>\n",
       "      <th>1</th>\n",
       "      <td>267</td>\n",
       "    </tr>\n",
       "    <tr>\n",
       "      <th>0</th>\n",
       "      <td>213</td>\n",
       "    </tr>\n",
       "    <tr>\n",
       "      <th>2</th>\n",
       "      <td>180</td>\n",
       "    </tr>\n",
       "    <tr>\n",
       "      <th>3</th>\n",
       "      <td>80</td>\n",
       "    </tr>\n",
       "    <tr>\n",
       "      <th>4</th>\n",
       "      <td>8</td>\n",
       "    </tr>\n",
       "  </tbody>\n",
       "</table>\n",
       "</div>"
      ],
      "text/plain": [
       "   cluster_id\n",
       "1         267\n",
       "0         213\n",
       "2         180\n",
       "3          80\n",
       "4           8"
      ]
     },
     "execution_count": 14,
     "metadata": {},
     "output_type": "execute_result"
    }
   ],
   "source": [
    "# Checking the clusters created\n",
    "blooddf = pd.DataFrame(blood['cluster_id'].value_counts())\n",
    "blooddf"
   ]
  },
  {
   "cell_type": "code",
   "execution_count": 16,
   "metadata": {},
   "outputs": [
    {
     "data": {
      "text/plain": [
       "<matplotlib.axes._subplots.AxesSubplot at 0x16353c16240>"
      ]
     },
     "execution_count": 16,
     "metadata": {},
     "output_type": "execute_result"
    },
    {
     "data": {
      "image/png": "[encoded data removed]",
      "text/plain": [
       "<matplotlib.figure.Figure at 0x16352ba1b38>"
      ]
     },
     "metadata": {},
     "output_type": "display_data"
    }
   ],
   "source": [
    "sns.barplot(x=blooddf.index, y=blooddf['cluster_id'])"
   ]
  },
  {
   "cell_type": "code",
   "execution_count": 24,
   "metadata": {},
   "outputs": [
    {
     "data": {
      "text/plain": [
       "[<matplotlib.lines.Line2D at 0x23e612a6e10>]"
      ]
     },
     "execution_count": 24,
     "metadata": {},
     "output_type": "execute_result"
    },
    {
     "data": {
      "image/png": "[encoded data removed]",
      "text/plain": [
       "<matplotlib.figure.Figure at 0x23e611d5390>"
      ]
     },
     "metadata": {},
     "output_type": "display_data"
    }
   ],
   "source": [
    "#Choosing optimal K\n",
    "cost = []\n",
    "for num_clusters in list(range(1,14)):\n",
    "    kproto = KPrototypes(n_clusters=num_clusters, init='Cao')\n",
    "    kproto.fit_predict(blood_matrix, categorical=[4])\n",
    "    cost.append(kproto.cost_)\n",
    "    \n",
    "plt.plot(cost)"
   ]
  }
 ],
 "metadata": {
  "kernelspec": {
   "display_name": "Python 3",
   "language": "python",
   "name": "python3"
  },
  "language_info": {
   "codemirror_mode": {
    "name": "ipython",
    "version": 3
   },
   "file_extension": ".py",
   "mimetype": "text/x-python",
   "name": "python",
   "nbconvert_exporter": "python",
   "pygments_lexer": "ipython3",
   "version": "3.6.4"
  }
 },
 "nbformat": 4,
 "nbformat_minor": 2
}
